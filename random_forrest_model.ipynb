{
 "cells": [
  {
   "cell_type": "code",
   "execution_count": 1,
   "metadata": {},
   "outputs": [],
   "source": [
    "import pandas as pd\n",
    "import numpy as np\n",
    "import matplotlib.pyplot as plt\n",
    "import seaborn as sns"
   ]
  },
  {
   "cell_type": "markdown",
   "metadata": {},
   "source": [
    "### <font color='3C89F9'><b>Загрузка данных</b></font>"
   ]
  },
  {
   "cell_type": "code",
   "execution_count": 2,
   "metadata": {},
   "outputs": [
    {
     "name": "stdout",
     "output_type": "stream",
     "text": [
      "(891, 14)\n"
     ]
    }
   ],
   "source": [
    "# загрузка данных для классификации\n",
    "path_file = 'example_data.xlsx'\n",
    "sheet_name = 'example_load'\n",
    "\n",
    "data = pd.read_excel(path_file, sheet_name=sheet_name)\n",
    "print(data.shape)\n",
    "\n",
    "# data = pd.read_csv('E:/Projects/Python/PythonUp64/Jupyter/MachineLearning/tennis_predict/out.csv')\n",
    "# data.rename(columns={'p1iswin': 'label'}, inplace=True)\n",
    "# data['idx'] = range(0, data.shape[0])"
   ]
  },
  {
   "cell_type": "code",
   "execution_count": 3,
   "metadata": {},
   "outputs": [
    {
     "data": {
      "text/plain": [
       "Index(['idx', 'Pclass', 'Name', 'Sex', 'Age', 'SibSp', 'Parch', 'Ticket',\n",
       "       'Fare', 'Cabin', 'Embarked', 'Family', 'isAlone', 'label'],\n",
       "      dtype='object')"
      ]
     },
     "execution_count": 3,
     "metadata": {},
     "output_type": "execute_result"
    }
   ],
   "source": [
    "# просмотр столбцов\n",
    "data.columns"
   ]
  },
  {
   "cell_type": "code",
   "execution_count": 4,
   "metadata": {},
   "outputs": [],
   "source": [
    "# проверка на необходимые столбцы\n",
    "if not set(['idx','label']).issubset(data.columns):\n",
    "    raise Exception('не хватает необходимых столбцов')\n",
    "\n",
    "# проверка на уникальность индекса\n",
    "if not data['idx'].is_unique:\n",
    "    raise Exception('индексы должны быть уникальными')"
   ]
  },
  {
   "cell_type": "code",
   "execution_count": 5,
   "metadata": {},
   "outputs": [],
   "source": [
    "# присвоение индекса\n",
    "if 'idx' in data:\n",
    "    if not data['idx'].is_unique:\n",
    "        raise Exception('входные индексы имеют дубликаты')\n",
    "    data.set_index(['idx'], inplace=True)"
   ]
  },
  {
   "cell_type": "code",
   "execution_count": 6,
   "metadata": {},
   "outputs": [
    {
     "name": "stdout",
     "output_type": "stream",
     "text": [
      "размерность: (891, 13)\n"
     ]
    },
    {
     "data": {
      "text/html": [
       "<div>\n",
       "<style scoped>\n",
       "    .dataframe tbody tr th:only-of-type {\n",
       "        vertical-align: middle;\n",
       "    }\n",
       "\n",
       "    .dataframe tbody tr th {\n",
       "        vertical-align: top;\n",
       "    }\n",
       "\n",
       "    .dataframe thead th {\n",
       "        text-align: right;\n",
       "    }\n",
       "</style>\n",
       "<table border=\"1\" class=\"dataframe\">\n",
       "  <thead>\n",
       "    <tr style=\"text-align: right;\">\n",
       "      <th></th>\n",
       "      <th>Pclass</th>\n",
       "      <th>Name</th>\n",
       "      <th>Sex</th>\n",
       "      <th>Age</th>\n",
       "      <th>SibSp</th>\n",
       "      <th>Parch</th>\n",
       "      <th>Ticket</th>\n",
       "      <th>Fare</th>\n",
       "      <th>Cabin</th>\n",
       "      <th>Embarked</th>\n",
       "      <th>Family</th>\n",
       "      <th>isAlone</th>\n",
       "      <th>label</th>\n",
       "    </tr>\n",
       "    <tr>\n",
       "      <th>idx</th>\n",
       "      <th></th>\n",
       "      <th></th>\n",
       "      <th></th>\n",
       "      <th></th>\n",
       "      <th></th>\n",
       "      <th></th>\n",
       "      <th></th>\n",
       "      <th></th>\n",
       "      <th></th>\n",
       "      <th></th>\n",
       "      <th></th>\n",
       "      <th></th>\n",
       "      <th></th>\n",
       "    </tr>\n",
       "  </thead>\n",
       "  <tbody>\n",
       "    <tr>\n",
       "      <th>1</th>\n",
       "      <td>3</td>\n",
       "      <td>0</td>\n",
       "      <td>0</td>\n",
       "      <td>2</td>\n",
       "      <td>1</td>\n",
       "      <td>0</td>\n",
       "      <td>0</td>\n",
       "      <td>0</td>\n",
       "      <td>0</td>\n",
       "      <td>0</td>\n",
       "      <td>2</td>\n",
       "      <td>0</td>\n",
       "      <td>0</td>\n",
       "    </tr>\n",
       "    <tr>\n",
       "      <th>2</th>\n",
       "      <td>1</td>\n",
       "      <td>2</td>\n",
       "      <td>1</td>\n",
       "      <td>4</td>\n",
       "      <td>1</td>\n",
       "      <td>0</td>\n",
       "      <td>1</td>\n",
       "      <td>1</td>\n",
       "      <td>1</td>\n",
       "      <td>1</td>\n",
       "      <td>2</td>\n",
       "      <td>0</td>\n",
       "      <td>1</td>\n",
       "    </tr>\n",
       "    <tr>\n",
       "      <th>3</th>\n",
       "      <td>3</td>\n",
       "      <td>1</td>\n",
       "      <td>1</td>\n",
       "      <td>3</td>\n",
       "      <td>0</td>\n",
       "      <td>0</td>\n",
       "      <td>0</td>\n",
       "      <td>0</td>\n",
       "      <td>0</td>\n",
       "      <td>0</td>\n",
       "      <td>1</td>\n",
       "      <td>1</td>\n",
       "      <td>1</td>\n",
       "    </tr>\n",
       "    <tr>\n",
       "      <th>4</th>\n",
       "      <td>1</td>\n",
       "      <td>2</td>\n",
       "      <td>1</td>\n",
       "      <td>4</td>\n",
       "      <td>1</td>\n",
       "      <td>0</td>\n",
       "      <td>0</td>\n",
       "      <td>0</td>\n",
       "      <td>1</td>\n",
       "      <td>0</td>\n",
       "      <td>2</td>\n",
       "      <td>0</td>\n",
       "      <td>1</td>\n",
       "    </tr>\n",
       "  </tbody>\n",
       "</table>\n",
       "</div>"
      ],
      "text/plain": [
       "     Pclass  Name  Sex  Age  SibSp  Parch  Ticket  Fare  Cabin  Embarked  \\\n",
       "idx                                                                        \n",
       "1         3     0    0    2      1      0       0     0      0         0   \n",
       "2         1     2    1    4      1      0       1     1      1         1   \n",
       "3         3     1    1    3      0      0       0     0      0         0   \n",
       "4         1     2    1    4      1      0       0     0      1         0   \n",
       "\n",
       "     Family  isAlone  label  \n",
       "idx                          \n",
       "1         2        0      0  \n",
       "2         2        0      1  \n",
       "3         1        1      1  \n",
       "4         2        0      1  "
      ]
     },
     "execution_count": 6,
     "metadata": {},
     "output_type": "execute_result"
    }
   ],
   "source": [
    "# смотрим на данные\n",
    "print('размерность:', data.shape)\n",
    "data.head(4)"
   ]
  },
  {
   "cell_type": "markdown",
   "metadata": {},
   "source": [
    "### <font color='3C89F9'><b>Preprocessing</b></font>"
   ]
  },
  {
   "cell_type": "code",
   "execution_count": 7,
   "metadata": {},
   "outputs": [
    {
     "data": {
      "text/html": [
       "<div>\n",
       "<style scoped>\n",
       "    .dataframe tbody tr th:only-of-type {\n",
       "        vertical-align: middle;\n",
       "    }\n",
       "\n",
       "    .dataframe tbody tr th {\n",
       "        vertical-align: top;\n",
       "    }\n",
       "\n",
       "    .dataframe thead th {\n",
       "        text-align: right;\n",
       "    }\n",
       "</style>\n",
       "<table border=\"1\" class=\"dataframe\">\n",
       "  <thead>\n",
       "    <tr style=\"text-align: right;\">\n",
       "      <th></th>\n",
       "      <th>Pclass</th>\n",
       "      <th>Name</th>\n",
       "      <th>Sex</th>\n",
       "      <th>Age</th>\n",
       "      <th>SibSp</th>\n",
       "      <th>Parch</th>\n",
       "      <th>Ticket</th>\n",
       "      <th>Fare</th>\n",
       "      <th>Cabin</th>\n",
       "      <th>Embarked</th>\n",
       "      <th>Family</th>\n",
       "      <th>isAlone</th>\n",
       "      <th>label</th>\n",
       "    </tr>\n",
       "    <tr>\n",
       "      <th>idx</th>\n",
       "      <th></th>\n",
       "      <th></th>\n",
       "      <th></th>\n",
       "      <th></th>\n",
       "      <th></th>\n",
       "      <th></th>\n",
       "      <th></th>\n",
       "      <th></th>\n",
       "      <th></th>\n",
       "      <th></th>\n",
       "      <th></th>\n",
       "      <th></th>\n",
       "      <th></th>\n",
       "    </tr>\n",
       "  </thead>\n",
       "  <tbody>\n",
       "    <tr>\n",
       "      <th>1</th>\n",
       "      <td>3</td>\n",
       "      <td>0</td>\n",
       "      <td>0</td>\n",
       "      <td>2</td>\n",
       "      <td>1</td>\n",
       "      <td>0</td>\n",
       "      <td>0</td>\n",
       "      <td>0</td>\n",
       "      <td>0</td>\n",
       "      <td>0</td>\n",
       "      <td>2</td>\n",
       "      <td>0</td>\n",
       "      <td>0</td>\n",
       "    </tr>\n",
       "    <tr>\n",
       "      <th>2</th>\n",
       "      <td>1</td>\n",
       "      <td>2</td>\n",
       "      <td>1</td>\n",
       "      <td>4</td>\n",
       "      <td>1</td>\n",
       "      <td>0</td>\n",
       "      <td>1</td>\n",
       "      <td>1</td>\n",
       "      <td>1</td>\n",
       "      <td>1</td>\n",
       "      <td>2</td>\n",
       "      <td>0</td>\n",
       "      <td>1</td>\n",
       "    </tr>\n",
       "    <tr>\n",
       "      <th>3</th>\n",
       "      <td>3</td>\n",
       "      <td>1</td>\n",
       "      <td>1</td>\n",
       "      <td>3</td>\n",
       "      <td>0</td>\n",
       "      <td>0</td>\n",
       "      <td>0</td>\n",
       "      <td>0</td>\n",
       "      <td>0</td>\n",
       "      <td>0</td>\n",
       "      <td>1</td>\n",
       "      <td>1</td>\n",
       "      <td>1</td>\n",
       "    </tr>\n",
       "    <tr>\n",
       "      <th>4</th>\n",
       "      <td>1</td>\n",
       "      <td>2</td>\n",
       "      <td>1</td>\n",
       "      <td>4</td>\n",
       "      <td>1</td>\n",
       "      <td>0</td>\n",
       "      <td>0</td>\n",
       "      <td>0</td>\n",
       "      <td>1</td>\n",
       "      <td>0</td>\n",
       "      <td>2</td>\n",
       "      <td>0</td>\n",
       "      <td>1</td>\n",
       "    </tr>\n",
       "  </tbody>\n",
       "</table>\n",
       "</div>"
      ],
      "text/plain": [
       "     Pclass  Name  Sex  Age  SibSp  Parch  Ticket  Fare  Cabin  Embarked  \\\n",
       "idx                                                                        \n",
       "1         3     0    0    2      1      0       0     0      0         0   \n",
       "2         1     2    1    4      1      0       1     1      1         1   \n",
       "3         3     1    1    3      0      0       0     0      0         0   \n",
       "4         1     2    1    4      1      0       0     0      1         0   \n",
       "\n",
       "     Family  isAlone  label  \n",
       "idx                          \n",
       "1         2        0      0  \n",
       "2         2        0      1  \n",
       "3         1        1      1  \n",
       "4         2        0      1  "
      ]
     },
     "execution_count": 7,
     "metadata": {},
     "output_type": "execute_result"
    }
   ],
   "source": [
    "from sklearn.preprocessing import MinMaxScaler, StandardScaler\n",
    "\n",
    "\n",
    "# # масштабирование данных - нормализация (минимакс)\n",
    "# scaler = MinMaxScaler(feature_range=(0.1, 0.9))\n",
    "# scaled_features = scaler.fit_transform(data[data.columns.difference(['label'])].astype('float64'))\n",
    "# scaled_data = pd.DataFrame(data=scaled_features, index=data.index, columns=data.drop(['label'], axis=1).columns)\n",
    "# scaled_data['label'] = data['label']\n",
    "# scaled_data.head(4)\n",
    "\n",
    "# # масштабирование данных - стандартизация\n",
    "# scaler = StandardScaler()\n",
    "# scaled_features = scaler.fit_transform(data[data.columns.difference(['label'])].astype('float64'))\n",
    "# scaled_data = pd.DataFrame(data=scaled_features, index=data.index, columns=data.drop(['label'], axis=1).columns)\n",
    "# scaled_data['label'] = data['label']\n",
    "# scaled_data.head(4)\n",
    "\n",
    "# оставить без масштабирования\n",
    "scaled_data = data.copy()\n",
    "scaled_data.head(4)"
   ]
  },
  {
   "cell_type": "code",
   "execution_count": 8,
   "metadata": {},
   "outputs": [],
   "source": [
    "# замена пустых значений\n",
    "scaled_data.fillna(value=0, inplace=True)"
   ]
  },
  {
   "cell_type": "markdown",
   "metadata": {},
   "source": [
    "### <font color='3C89F9'><b>Подготовка данных к ML</b></font>"
   ]
  },
  {
   "cell_type": "code",
   "execution_count": 9,
   "metadata": {},
   "outputs": [],
   "source": [
    "from sklearn.model_selection import train_test_split"
   ]
  },
  {
   "cell_type": "code",
   "execution_count": 10,
   "metadata": {},
   "outputs": [
    {
     "name": "stdout",
     "output_type": "stream",
     "text": [
      "size train data: (891, 12)\n",
      "size train labels: (891,)\n"
     ]
    }
   ],
   "source": [
    "X_data = scaled_data.drop('label', axis=1).select_dtypes(include=[np.number])\n",
    "y_data = scaled_data['label'].astype('int32')\n",
    "\n",
    "print('size train data:', X_data.shape)\n",
    "print('size train labels:', y_data.shape)"
   ]
  },
  {
   "cell_type": "code",
   "execution_count": 11,
   "metadata": {},
   "outputs": [],
   "source": [
    "# разбивка на тестовые и тренировочные данные\n",
    "X_train, X_test, y_train, y_test = train_test_split(X_data, y_data, test_size=0.2)"
   ]
  },
  {
   "cell_type": "markdown",
   "metadata": {},
   "source": [
    "### <font color='3C89F9'><b>Модель - Random forest</b></font>"
   ]
  },
  {
   "cell_type": "code",
   "execution_count": 12,
   "metadata": {},
   "outputs": [],
   "source": [
    "from sklearn.model_selection import GridSearchCV, cross_val_score\n",
    "from sklearn.metrics import accuracy_score\n",
    "\n",
    "# модели случайный лес\n",
    "from sklearn.ensemble import RandomForestClassifier"
   ]
  },
  {
   "cell_type": "code",
   "execution_count": 13,
   "metadata": {},
   "outputs": [],
   "source": [
    "# случайный лес\n",
    "rf = RandomForestClassifier(max_features='auto', random_state=1, n_jobs=-1, n_estimators=10)"
   ]
  },
  {
   "cell_type": "code",
   "execution_count": 14,
   "metadata": {},
   "outputs": [
    {
     "name": "stdout",
     "output_type": "stream",
     "text": [
      "0.81040532494121\n"
     ]
    }
   ],
   "source": [
    "# посмотрим на примерный результат, без поиска лучших гиперпараметров\n",
    "print(np.mean(cross_val_score(rf, X_data, y_data, cv=5)))"
   ]
  },
  {
   "cell_type": "code",
   "execution_count": 15,
   "metadata": {},
   "outputs": [],
   "source": [
    "# оптимизируемые параметры (по каким будет идти перебор)\n",
    "rf_params = {'criterion' : ['entropy'],\n",
    "             'min_samples_leaf' : [1,2,3],\n",
    "             'min_samples_split' : [5,15,25,50,100],\n",
    "             'n_estimators': [50,75,100,125,150]}"
   ]
  },
  {
   "cell_type": "code",
   "execution_count": 16,
   "metadata": {},
   "outputs": [],
   "source": [
    "# объект для поиска наилучших параметров\n",
    "rf_grid = GridSearchCV(rf,\n",
    "                       rf_params,\n",
    "                       cv=5,\n",
    "                       n_jobs=-1,\n",
    "                       verbose=True)"
   ]
  },
  {
   "cell_type": "markdown",
   "metadata": {},
   "source": [
    "### <font color='3C89F9'><b>Поиск лучших гиперпараметров</b></font>"
   ]
  },
  {
   "cell_type": "code",
   "execution_count": 17,
   "metadata": {},
   "outputs": [
    {
     "name": "stdout",
     "output_type": "stream",
     "text": [
      "Fitting 5 folds for each of 90 candidates, totalling 450 fits\n"
     ]
    },
    {
     "name": "stderr",
     "output_type": "stream",
     "text": [
      "[Parallel(n_jobs=-1)]: Using backend LokyBackend with 4 concurrent workers.\n",
      "[Parallel(n_jobs=-1)]: Done  42 tasks      | elapsed:    5.8s\n",
      "[Parallel(n_jobs=-1)]: Done 192 tasks      | elapsed:   26.3s\n",
      "[Parallel(n_jobs=-1)]: Done 442 tasks      | elapsed:   59.8s\n",
      "[Parallel(n_jobs=-1)]: Done 450 out of 450 | elapsed:  1.0min finished\n"
     ]
    }
   ],
   "source": [
    "# поиск наилучших параметров для модели\n",
    "rf_grid.fit(X_train, y_train);"
   ]
  },
  {
   "cell_type": "code",
   "execution_count": 18,
   "metadata": {},
   "outputs": [
    {
     "data": {
      "text/plain": [
       "{'criterion': 'entropy',\n",
       " 'min_samples_leaf': 1,\n",
       " 'min_samples_split': 50,\n",
       " 'n_estimators': 50}"
      ]
     },
     "execution_count": 18,
     "metadata": {},
     "output_type": "execute_result"
    }
   ],
   "source": [
    "# просмотр лучших параметров\n",
    "rf_grid.best_params_"
   ]
  },
  {
   "cell_type": "code",
   "execution_count": 19,
   "metadata": {},
   "outputs": [
    {
     "data": {
      "text/plain": [
       "0.8300561797752809"
      ]
     },
     "execution_count": 19,
     "metadata": {},
     "output_type": "execute_result"
    }
   ],
   "source": [
    "# просмотр лучшего результата\n",
    "rf_grid.best_score_"
   ]
  },
  {
   "cell_type": "code",
   "execution_count": 20,
   "metadata": {},
   "outputs": [
    {
     "name": "stdout",
     "output_type": "stream",
     "text": [
      "0.826 (+/-0.028) for {'criterion': 'entropy', 'min_samples_leaf': 1, 'min_samples_split': 5, 'n_estimators': 50}\n",
      "0.819 (+/-0.035) for {'criterion': 'entropy', 'min_samples_leaf': 1, 'min_samples_split': 5, 'n_estimators': 75}\n",
      "0.823 (+/-0.028) for {'criterion': 'entropy', 'min_samples_leaf': 1, 'min_samples_split': 5, 'n_estimators': 100}\n",
      "0.822 (+/-0.034) for {'criterion': 'entropy', 'min_samples_leaf': 1, 'min_samples_split': 5, 'n_estimators': 125}\n",
      "0.819 (+/-0.043) for {'criterion': 'entropy', 'min_samples_leaf': 1, 'min_samples_split': 5, 'n_estimators': 150}\n",
      "0.819 (+/-0.037) for {'criterion': 'entropy', 'min_samples_leaf': 1, 'min_samples_split': 5, 'n_estimators': 1000}\n",
      "0.820 (+/-0.028) for {'criterion': 'entropy', 'min_samples_leaf': 1, 'min_samples_split': 15, 'n_estimators': 50}\n",
      "0.813 (+/-0.032) for {'criterion': 'entropy', 'min_samples_leaf': 1, 'min_samples_split': 15, 'n_estimators': 75}\n",
      "0.816 (+/-0.035) for {'criterion': 'entropy', 'min_samples_leaf': 1, 'min_samples_split': 15, 'n_estimators': 100}\n",
      "0.813 (+/-0.038) for {'criterion': 'entropy', 'min_samples_leaf': 1, 'min_samples_split': 15, 'n_estimators': 125}\n",
      "0.815 (+/-0.044) for {'criterion': 'entropy', 'min_samples_leaf': 1, 'min_samples_split': 15, 'n_estimators': 150}\n",
      "0.820 (+/-0.036) for {'criterion': 'entropy', 'min_samples_leaf': 1, 'min_samples_split': 15, 'n_estimators': 1000}\n",
      "0.819 (+/-0.058) for {'criterion': 'entropy', 'min_samples_leaf': 1, 'min_samples_split': 25, 'n_estimators': 50}\n",
      "0.819 (+/-0.057) for {'criterion': 'entropy', 'min_samples_leaf': 1, 'min_samples_split': 25, 'n_estimators': 75}\n",
      "0.819 (+/-0.046) for {'criterion': 'entropy', 'min_samples_leaf': 1, 'min_samples_split': 25, 'n_estimators': 100}\n",
      "0.824 (+/-0.046) for {'criterion': 'entropy', 'min_samples_leaf': 1, 'min_samples_split': 25, 'n_estimators': 125}\n",
      "0.822 (+/-0.051) for {'criterion': 'entropy', 'min_samples_leaf': 1, 'min_samples_split': 25, 'n_estimators': 150}\n",
      "0.824 (+/-0.046) for {'criterion': 'entropy', 'min_samples_leaf': 1, 'min_samples_split': 25, 'n_estimators': 1000}\n",
      "0.830 (+/-0.036) for {'criterion': 'entropy', 'min_samples_leaf': 1, 'min_samples_split': 50, 'n_estimators': 50}\n",
      "0.827 (+/-0.040) for {'criterion': 'entropy', 'min_samples_leaf': 1, 'min_samples_split': 50, 'n_estimators': 75}\n",
      "0.827 (+/-0.045) for {'criterion': 'entropy', 'min_samples_leaf': 1, 'min_samples_split': 50, 'n_estimators': 100}\n",
      "0.827 (+/-0.042) for {'criterion': 'entropy', 'min_samples_leaf': 1, 'min_samples_split': 50, 'n_estimators': 125}\n",
      "0.829 (+/-0.043) for {'criterion': 'entropy', 'min_samples_leaf': 1, 'min_samples_split': 50, 'n_estimators': 150}\n",
      "0.826 (+/-0.043) for {'criterion': 'entropy', 'min_samples_leaf': 1, 'min_samples_split': 50, 'n_estimators': 1000}\n",
      "0.808 (+/-0.033) for {'criterion': 'entropy', 'min_samples_leaf': 1, 'min_samples_split': 100, 'n_estimators': 50}\n",
      "0.815 (+/-0.032) for {'criterion': 'entropy', 'min_samples_leaf': 1, 'min_samples_split': 100, 'n_estimators': 75}\n",
      "0.817 (+/-0.039) for {'criterion': 'entropy', 'min_samples_leaf': 1, 'min_samples_split': 100, 'n_estimators': 100}\n",
      "0.816 (+/-0.041) for {'criterion': 'entropy', 'min_samples_leaf': 1, 'min_samples_split': 100, 'n_estimators': 125}\n",
      "0.815 (+/-0.037) for {'criterion': 'entropy', 'min_samples_leaf': 1, 'min_samples_split': 100, 'n_estimators': 150}\n",
      "0.810 (+/-0.048) for {'criterion': 'entropy', 'min_samples_leaf': 1, 'min_samples_split': 100, 'n_estimators': 1000}\n",
      "0.824 (+/-0.024) for {'criterion': 'entropy', 'min_samples_leaf': 2, 'min_samples_split': 5, 'n_estimators': 50}\n",
      "0.827 (+/-0.029) for {'criterion': 'entropy', 'min_samples_leaf': 2, 'min_samples_split': 5, 'n_estimators': 75}\n",
      "0.830 (+/-0.027) for {'criterion': 'entropy', 'min_samples_leaf': 2, 'min_samples_split': 5, 'n_estimators': 100}\n",
      "0.829 (+/-0.029) for {'criterion': 'entropy', 'min_samples_leaf': 2, 'min_samples_split': 5, 'n_estimators': 125}\n",
      "0.829 (+/-0.029) for {'criterion': 'entropy', 'min_samples_leaf': 2, 'min_samples_split': 5, 'n_estimators': 150}\n",
      "0.824 (+/-0.026) for {'criterion': 'entropy', 'min_samples_leaf': 2, 'min_samples_split': 5, 'n_estimators': 1000}\n",
      "0.820 (+/-0.041) for {'criterion': 'entropy', 'min_samples_leaf': 2, 'min_samples_split': 15, 'n_estimators': 50}\n",
      "0.819 (+/-0.027) for {'criterion': 'entropy', 'min_samples_leaf': 2, 'min_samples_split': 15, 'n_estimators': 75}\n",
      "0.816 (+/-0.030) for {'criterion': 'entropy', 'min_samples_leaf': 2, 'min_samples_split': 15, 'n_estimators': 100}\n",
      "0.817 (+/-0.032) for {'criterion': 'entropy', 'min_samples_leaf': 2, 'min_samples_split': 15, 'n_estimators': 125}\n",
      "0.817 (+/-0.026) for {'criterion': 'entropy', 'min_samples_leaf': 2, 'min_samples_split': 15, 'n_estimators': 150}\n",
      "0.820 (+/-0.029) for {'criterion': 'entropy', 'min_samples_leaf': 2, 'min_samples_split': 15, 'n_estimators': 1000}\n",
      "0.817 (+/-0.046) for {'criterion': 'entropy', 'min_samples_leaf': 2, 'min_samples_split': 25, 'n_estimators': 50}\n",
      "0.823 (+/-0.046) for {'criterion': 'entropy', 'min_samples_leaf': 2, 'min_samples_split': 25, 'n_estimators': 75}\n",
      "0.820 (+/-0.044) for {'criterion': 'entropy', 'min_samples_leaf': 2, 'min_samples_split': 25, 'n_estimators': 100}\n",
      "0.817 (+/-0.040) for {'criterion': 'entropy', 'min_samples_leaf': 2, 'min_samples_split': 25, 'n_estimators': 125}\n",
      "0.816 (+/-0.041) for {'criterion': 'entropy', 'min_samples_leaf': 2, 'min_samples_split': 25, 'n_estimators': 150}\n",
      "0.820 (+/-0.038) for {'criterion': 'entropy', 'min_samples_leaf': 2, 'min_samples_split': 25, 'n_estimators': 1000}\n",
      "0.826 (+/-0.033) for {'criterion': 'entropy', 'min_samples_leaf': 2, 'min_samples_split': 50, 'n_estimators': 50}\n",
      "0.823 (+/-0.038) for {'criterion': 'entropy', 'min_samples_leaf': 2, 'min_samples_split': 50, 'n_estimators': 75}\n",
      "0.826 (+/-0.038) for {'criterion': 'entropy', 'min_samples_leaf': 2, 'min_samples_split': 50, 'n_estimators': 100}\n",
      "0.826 (+/-0.038) for {'criterion': 'entropy', 'min_samples_leaf': 2, 'min_samples_split': 50, 'n_estimators': 125}\n",
      "0.826 (+/-0.038) for {'criterion': 'entropy', 'min_samples_leaf': 2, 'min_samples_split': 50, 'n_estimators': 150}\n",
      "0.824 (+/-0.039) for {'criterion': 'entropy', 'min_samples_leaf': 2, 'min_samples_split': 50, 'n_estimators': 1000}\n",
      "0.803 (+/-0.047) for {'criterion': 'entropy', 'min_samples_leaf': 2, 'min_samples_split': 100, 'n_estimators': 50}\n",
      "0.816 (+/-0.030) for {'criterion': 'entropy', 'min_samples_leaf': 2, 'min_samples_split': 100, 'n_estimators': 75}\n",
      "0.817 (+/-0.035) for {'criterion': 'entropy', 'min_samples_leaf': 2, 'min_samples_split': 100, 'n_estimators': 100}\n",
      "0.813 (+/-0.040) for {'criterion': 'entropy', 'min_samples_leaf': 2, 'min_samples_split': 100, 'n_estimators': 125}\n",
      "0.813 (+/-0.036) for {'criterion': 'entropy', 'min_samples_leaf': 2, 'min_samples_split': 100, 'n_estimators': 150}\n",
      "0.808 (+/-0.050) for {'criterion': 'entropy', 'min_samples_leaf': 2, 'min_samples_split': 100, 'n_estimators': 1000}\n",
      "0.830 (+/-0.037) for {'criterion': 'entropy', 'min_samples_leaf': 3, 'min_samples_split': 5, 'n_estimators': 50}\n",
      "0.824 (+/-0.033) for {'criterion': 'entropy', 'min_samples_leaf': 3, 'min_samples_split': 5, 'n_estimators': 75}\n",
      "0.823 (+/-0.033) for {'criterion': 'entropy', 'min_samples_leaf': 3, 'min_samples_split': 5, 'n_estimators': 100}\n",
      "0.826 (+/-0.039) for {'criterion': 'entropy', 'min_samples_leaf': 3, 'min_samples_split': 5, 'n_estimators': 125}\n",
      "0.820 (+/-0.041) for {'criterion': 'entropy', 'min_samples_leaf': 3, 'min_samples_split': 5, 'n_estimators': 150}\n",
      "0.817 (+/-0.027) for {'criterion': 'entropy', 'min_samples_leaf': 3, 'min_samples_split': 5, 'n_estimators': 1000}\n",
      "0.813 (+/-0.043) for {'criterion': 'entropy', 'min_samples_leaf': 3, 'min_samples_split': 15, 'n_estimators': 50}\n",
      "0.816 (+/-0.046) for {'criterion': 'entropy', 'min_samples_leaf': 3, 'min_samples_split': 15, 'n_estimators': 75}\n",
      "0.816 (+/-0.040) for {'criterion': 'entropy', 'min_samples_leaf': 3, 'min_samples_split': 15, 'n_estimators': 100}\n",
      "0.816 (+/-0.034) for {'criterion': 'entropy', 'min_samples_leaf': 3, 'min_samples_split': 15, 'n_estimators': 125}\n",
      "0.817 (+/-0.028) for {'criterion': 'entropy', 'min_samples_leaf': 3, 'min_samples_split': 15, 'n_estimators': 150}\n",
      "0.817 (+/-0.042) for {'criterion': 'entropy', 'min_samples_leaf': 3, 'min_samples_split': 15, 'n_estimators': 1000}\n",
      "0.822 (+/-0.049) for {'criterion': 'entropy', 'min_samples_leaf': 3, 'min_samples_split': 25, 'n_estimators': 50}\n",
      "0.823 (+/-0.046) for {'criterion': 'entropy', 'min_samples_leaf': 3, 'min_samples_split': 25, 'n_estimators': 75}\n",
      "0.822 (+/-0.047) for {'criterion': 'entropy', 'min_samples_leaf': 3, 'min_samples_split': 25, 'n_estimators': 100}\n",
      "0.816 (+/-0.043) for {'criterion': 'entropy', 'min_samples_leaf': 3, 'min_samples_split': 25, 'n_estimators': 125}\n",
      "0.819 (+/-0.049) for {'criterion': 'entropy', 'min_samples_leaf': 3, 'min_samples_split': 25, 'n_estimators': 150}\n",
      "0.820 (+/-0.040) for {'criterion': 'entropy', 'min_samples_leaf': 3, 'min_samples_split': 25, 'n_estimators': 1000}\n",
      "0.822 (+/-0.045) for {'criterion': 'entropy', 'min_samples_leaf': 3, 'min_samples_split': 50, 'n_estimators': 50}\n",
      "0.822 (+/-0.044) for {'criterion': 'entropy', 'min_samples_leaf': 3, 'min_samples_split': 50, 'n_estimators': 75}\n",
      "0.822 (+/-0.049) for {'criterion': 'entropy', 'min_samples_leaf': 3, 'min_samples_split': 50, 'n_estimators': 100}\n",
      "0.822 (+/-0.049) for {'criterion': 'entropy', 'min_samples_leaf': 3, 'min_samples_split': 50, 'n_estimators': 125}\n",
      "0.823 (+/-0.046) for {'criterion': 'entropy', 'min_samples_leaf': 3, 'min_samples_split': 50, 'n_estimators': 150}\n",
      "0.824 (+/-0.043) for {'criterion': 'entropy', 'min_samples_leaf': 3, 'min_samples_split': 50, 'n_estimators': 1000}\n",
      "0.803 (+/-0.052) for {'criterion': 'entropy', 'min_samples_leaf': 3, 'min_samples_split': 100, 'n_estimators': 50}\n",
      "0.812 (+/-0.034) for {'criterion': 'entropy', 'min_samples_leaf': 3, 'min_samples_split': 100, 'n_estimators': 75}\n",
      "0.812 (+/-0.052) for {'criterion': 'entropy', 'min_samples_leaf': 3, 'min_samples_split': 100, 'n_estimators': 100}\n",
      "0.810 (+/-0.051) for {'criterion': 'entropy', 'min_samples_leaf': 3, 'min_samples_split': 100, 'n_estimators': 125}\n",
      "0.812 (+/-0.052) for {'criterion': 'entropy', 'min_samples_leaf': 3, 'min_samples_split': 100, 'n_estimators': 150}\n",
      "0.808 (+/-0.050) for {'criterion': 'entropy', 'min_samples_leaf': 3, 'min_samples_split': 100, 'n_estimators': 1000}\n"
     ]
    }
   ],
   "source": [
    "# просмотр комбинация гиперпараметров с оценками\n",
    "means = rf_grid.cv_results_['mean_test_score']\n",
    "stds = rf_grid.cv_results_['std_test_score']\n",
    "for mean, std, params in zip(means, stds, rf_grid.cv_results_['params']):\n",
    "    print(\"%0.3f (+/-%0.03f) for %r\" % (mean, std * 2, params))"
   ]
  },
  {
   "cell_type": "code",
   "execution_count": 21,
   "metadata": {},
   "outputs": [
    {
     "data": {
      "image/png": "[encoded data removed]",
      "text/plain": [
       "<Figure size 648x360 with 1 Axes>"
      ]
     },
     "metadata": {
      "needs_background": "light"
     },
     "output_type": "display_data"
    }
   ],
   "source": [
    "plt.subplots(figsize=(9,5))\n",
    "plt.plot(np.sort(rf_grid.cv_results_['mean_test_score']));\n",
    "plt.grid(alpha=0.4)\n",
    "plt.ylabel('точность модели');\n",
    "plt.xlabel('модели с разными параметрами');\n",
    "plt.title('Точность модели от оптимизируемых гиперапараметров');"
   ]
  },
  {
   "cell_type": "markdown",
   "metadata": {},
   "source": [
    "### <font color='3C89F9'><b>Построение модели с оптимизированными гиперпараметрами</b></font>"
   ]
  },
  {
   "cell_type": "code",
   "execution_count": 22,
   "metadata": {},
   "outputs": [],
   "source": [
    "# отбираем лучшую модель\n",
    "best_model = rf_grid.best_estimator_"
   ]
  },
  {
   "cell_type": "code",
   "execution_count": 23,
   "metadata": {},
   "outputs": [
    {
     "data": {
      "text/plain": [
       "RandomForestClassifier(bootstrap=True, class_weight=None, criterion='entropy',\n",
       "            max_depth=None, max_features='auto', max_leaf_nodes=None,\n",
       "            min_impurity_decrease=0.0, min_impurity_split=None,\n",
       "            min_samples_leaf=1, min_samples_split=50,\n",
       "            min_weight_fraction_leaf=0.0, n_estimators=50, n_jobs=-1,\n",
       "            oob_score=False, random_state=1, verbose=0, warm_start=False)"
      ]
     },
     "execution_count": 23,
     "metadata": {},
     "output_type": "execute_result"
    }
   ],
   "source": [
    "# обучаем модель на всех данных\n",
    "best_model.fit(X_train, y_train)"
   ]
  },
  {
   "cell_type": "code",
   "execution_count": 24,
   "metadata": {},
   "outputs": [
    {
     "data": {
      "text/plain": [
       "0.8379888268156425"
      ]
     },
     "execution_count": 24,
     "metadata": {},
     "output_type": "execute_result"
    }
   ],
   "source": [
    "# смотрим на результативность на тестовых данных\n",
    "best_model.score(X_test, y_test)"
   ]
  },
  {
   "cell_type": "code",
   "execution_count": 41,
   "metadata": {},
   "outputs": [],
   "source": [
    "# pd.DataFrame(data=best_model.predict(X_test)).to_clipboard()"
   ]
  },
  {
   "cell_type": "code",
   "execution_count": 40,
   "metadata": {},
   "outputs": [],
   "source": [
    "# pd.DataFrame(data=y_test).to_clipboard()"
   ]
  },
  {
   "cell_type": "code",
   "execution_count": 39,
   "metadata": {},
   "outputs": [],
   "source": [
    "# pd.DataFrame(data=X_test).to_clipboard()"
   ]
  },
  {
   "cell_type": "code",
   "execution_count": 25,
   "metadata": {},
   "outputs": [
    {
     "name": "stdout",
     "output_type": "stream",
     "text": [
      "          Feature_Imp\n",
      "Name         0.312300\n",
      "Sex          0.206405\n",
      "Pclass       0.122622\n",
      "Age          0.080789\n",
      "Cabin        0.074441\n",
      "Family       0.050777\n",
      "Ticket       0.046303\n",
      "Fare         0.036778\n",
      "SibSp        0.023282\n",
      "Embarked     0.022313\n",
      "Parch        0.014683\n",
      "isAlone      0.009307\n"
     ]
    }
   ],
   "source": [
    "# сформируем важности признаков\n",
    "imp_df = pd.DataFrame(best_model.feature_importances_,\n",
    "                      columns=['Feature_Imp'],\n",
    "                      index=X_train.columns)\n",
    "imp_df.sort_values(by=['Feature_Imp'], ascending=False, inplace=True)\n",
    "print(imp_df)"
   ]
  },
  {
   "cell_type": "code",
   "execution_count": 155,
   "metadata": {},
   "outputs": [],
   "source": [
    "# df_temp = pd.DataFrame(data=np.arange(80).reshape(20,4), columns=list('abcd'))\n",
    "# df_temp.iloc[np.random.choice(df_temp.shape[0], df_temp.shape[0], replace=False)]"
   ]
  }
 ],
 "metadata": {
  "kernelspec": {
   "display_name": "Python 3",
   "language": "python",
   "name": "python3"
  },
  "language_info": {
   "codemirror_mode": {
    "name": "ipython",
    "version": 3
   },
   "file_extension": ".py",
   "mimetype": "text/x-python",
   "name": "python",
   "nbconvert_exporter": "python",
   "pygments_lexer": "ipython3",
   "version": "3.7.1"
  }
 },
 "nbformat": 4,
 "nbformat_minor": 2
}
